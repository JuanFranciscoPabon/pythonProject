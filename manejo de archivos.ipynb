{
 "cells": [
  {
   "cell_type": "code",
   "execution_count": 3,
   "metadata": {},
   "outputs": [
    {
     "name": "stdout",
     "output_type": "stream",
     "text": [
      "1\n",
      "2\n",
      "2\n"
     ]
    }
   ],
   "source": [
    "class JustConter:\n",
    "    __secretCount=0 #parametro privado\n",
    "    \n",
    "    def count(self):\n",
    "        self.__secretCount+=1 # la variable privada llama dentro del mismo contexto de la clase\n",
    "        print(self.__secretCount)\n",
    "\n",
    "counter=JustConter()\n",
    "counter.count()\n",
    "counter.count()\n",
    "#print(couter.__secreCount)\n",
    "print(counter._JustConter__secretCount)"
   ]
  },
  {
   "cell_type": "code",
   "execution_count": 4,
   "metadata": {},
   "outputs": [
    {
     "name": "stdout",
     "output_type": "stream",
     "text": [
      "audi\n",
      "a4\n",
      "2016\n",
      "subaru\n",
      "outback\n",
      "2013\n"
     ]
    }
   ],
   "source": [
    "\n",
    "class Car():\n",
    "    \"\"\"A simple attempt to model a car.\"\"\"\n",
    "    def __init__(self, make, model, year):\n",
    "        \"\"\"Initialize car attributes.\"\"\"\n",
    "        self.make = make\n",
    "        self.model = model\n",
    "        self.year = year\n",
    "        # Fuel capacity and level in gallons.\n",
    "        self.fuel_capacity = 15\n",
    "        self.fuel_level = 0\n",
    "    def fill_tank(self):\n",
    "        \"\"\"Fill gas tank to capacity.\"\"\"\n",
    "        self.fuel_level = self.fuel_capacity\n",
    "        print(\"Fuel tank is full.\")\n",
    "    def drive(self):\n",
    "        \"\"\"Simulate driving.\"\"\"\n",
    "        print(\"The car is moving.\")\n",
    "my_car = Car('audi', 'a4', 2016)\n",
    "print(my_car.make)\n",
    "print(my_car.model)\n",
    "print(my_car.year)\n",
    "auto1=Car (\"Hyndai\", \"Tucson\",2010)\n",
    "\n",
    "my_car = Car('audi', 'a4', 2016)\n",
    "my_old_car = Car('subaru', 'outback', 2013)\n",
    "\n",
    "print(my_old_car.make)\n",
    "print(my_old_car.model)\n",
    "print(my_old_car.year)\n",
    "my_truck = Car('toyota', 'tacoma', 2010)\n",
    "my_new_car = Car('audi', 'a4', 2016)\n",
    "my_new_car.fuel_level = 5 \n",
    "# Metodo Incrementar un atributo\n",
    "def update_fuel_level(self, new_level):\n",
    "    \"\"\"Update the fuel level.\"\"\"\n",
    "    if new_level <= self.fuel_capacity:\n",
    "        self.fuel_level = new_level\n",
    "    else:\n",
    "        print(\"The tank can't hold that much!\")\n"
   ]
  },
  {
   "cell_type": "markdown",
   "metadata": {},
   "source": [
    "lectura de archivos \n"
   ]
  },
  {
   "cell_type": "code",
   "execution_count": null,
   "metadata": {},
   "outputs": [],
   "source": [
    "#stream=open(file, mode='r', encoding=None)# como se abre datos de archivos "
   ]
  }
 ],
 "metadata": {
  "kernelspec": {
   "display_name": "Python 3",
   "language": "python",
   "name": "python3"
  },
  "language_info": {
   "codemirror_mode": {
    "name": "ipython",
    "version": 3
   },
   "file_extension": ".py",
   "mimetype": "text/x-python",
   "name": "python",
   "nbconvert_exporter": "python",
   "pygments_lexer": "ipython3",
   "version": "3.7.4"
  }
 },
 "nbformat": 4,
 "nbformat_minor": 2
}
