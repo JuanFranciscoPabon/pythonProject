{
 "cells": [
  {
   "cell_type": "code",
   "execution_count": null,
   "metadata": {},
   "outputs": [],
   "source": [
    "devices=[] #listas vacia\n",
    "file=open(\"devices.txt\",\"r\")\n",
    "for item in file:\n",
    "    item=item.strip()#strip () es una función incorporada en el lenguaje de programación \n",
    "                         #Python que devuelve una copia de la cadena con los caracteres iniciales \n",
    "                         #y finales eliminados (según el argumento de cadena aprobado)\n",
    "    devices.append(item) #agrega datos a una lista \n",
    "    print(item)\n",
    "file.close()\n",
    "print(devices)"
   ]
  },
  {
   "cell_type": "code",
   "execution_count": 5,
   "metadata": {},
   "outputs": [
    {
     "name": "stdout",
     "output_type": "stream",
     "text": [
      "Ingrese un dato exit\n",
      "All done\n"
     ]
    }
   ],
   "source": [
    "\n",
    "file=open(\"devices.txt\",\"a\")\n",
    "while True:\n",
    "    \n",
    "        newItem=(input(\"Ingrese un dato \"))\n",
    "                \n",
    "        if newItem=='Exit' or newItem=='exit':\n",
    "            print(\"All done\")\n",
    "            break\n",
    "        \n",
    "        file.write(newItem+\" \\n\")\n",
    "\n",
    "        file.close()\n",
    "\n",
    "\n"
   ]
  },
  {
   "cell_type": "code",
   "execution_count": null,
   "metadata": {},
   "outputs": [],
   "source": []
  }
 ],
 "metadata": {
  "kernelspec": {
   "display_name": "Python 3",
   "language": "python",
   "name": "python3"
  },
  "language_info": {
   "codemirror_mode": {
    "name": "ipython",
    "version": 3
   },
   "file_extension": ".py",
   "mimetype": "text/x-python",
   "name": "python",
   "nbconvert_exporter": "python",
   "pygments_lexer": "ipython3",
   "version": "3.7.4"
  }
 },
 "nbformat": 4,
 "nbformat_minor": 2
}
