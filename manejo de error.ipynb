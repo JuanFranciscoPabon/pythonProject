{
 "cells": [
  {
   "cell_type": "code",
   "execution_count": null,
   "metadata": {},
   "outputs": [],
   "source": [
    "try:\n",
    "    print(\"1\")\n",
    "    x=1/0\n",
    "    print(\"2\")\n",
    "except:\n",
    "    print(\"ho dear, somenthing wen wrong \")\n",
    "          \n",
    "print(3)"
   ]
  },
  {
   "cell_type": "code",
   "execution_count": null,
   "metadata": {},
   "outputs": [],
   "source": [
    "try:\n",
    "    x=int(input(\"Enter a numbers: \"))\n",
    "    y=1/x\n",
    "    print(y)\n",
    "except ZeroDivisionError:\n",
    "    print(\"You cannot divide by zero , sorry\")\n",
    "except ValueError:\n",
    "    print(\"You must enter an integer value\")\n",
    "except:\n",
    "    print(\"ho dear, something went wrong...\")\n",
    "print(\"The End\")"
   ]
  },
  {
   "cell_type": "code",
   "execution_count": null,
   "metadata": {},
   "outputs": [],
   "source": [
    "try:\n",
    "    y=1/0\n",
    "except ZeroDivisionError:\n",
    "    print(\"Zero Division! \")\n",
    "except ArithmeticError:\n",
    "    print(\"Arthmetic problem\")\n",
    "    \n",
    "print(\"The End\")"
   ]
  },
  {
   "cell_type": "code",
   "execution_count": null,
   "metadata": {},
   "outputs": [],
   "source": [
    "def badFun(n):\n",
    "    try:\n",
    "        return 1/n\n",
    "    except ArithmeticError:\n",
    "        print(\"Arthmetic problem\")\n",
    "        return None\n",
    "\n",
    "badFun(0)\n",
    "print(\"The End\")"
   ]
  },
  {
   "cell_type": "code",
   "execution_count": 4,
   "metadata": {},
   "outputs": [
    {
     "name": "stdout",
     "output_type": "stream",
     "text": [
      "Enter a number from -10 to 10: 100\n",
      "El valor debe estar dentro del RANGO --> (-10..10) <--\n",
      "Enter a number from -10 to 10: 10\n",
      "The number is: 10\n"
     ]
    }
   ],
   "source": [
    "def readint(prompt, min, max):\n",
    "    \n",
    "    while (True):\n",
    "        try:\n",
    "            x=int(input(prompt))\n",
    "            assert x>=min and x<=max\n",
    "            return x\n",
    "            break\n",
    "        except ValueError:\n",
    "            print(\"ingrese solo numeros\")\n",
    "        except:\n",
    "            print(\"El valor debe estar dentro del RANGO --> (-10..10) <--\")\n",
    "            \n",
    "        \n",
    "\n",
    "v = readint(\"Enter a number from -10 to 10: \",-10,10)\n",
    "\n",
    "print(\"The number is:\", v)\n"
   ]
  },
  {
   "cell_type": "markdown",
   "metadata": {},
   "source": [
    "programacion orietada a objetos\n"
   ]
  },
  {
   "cell_type": "code",
   "execution_count": 9,
   "metadata": {},
   "outputs": [],
   "source": [
    "class TheSimplestClass:\n",
    "    pass\n",
    "\n",
    "myFirstObjet=TheSimplestClass()\n",
    "mySegundObjet=TheSimplestClass()\n",
    "myTreesObjet=TheSimplestClass()"
   ]
  },
  {
   "cell_type": "code",
   "execution_count": 24,
   "metadata": {},
   "outputs": [
    {
     "name": "stdout",
     "output_type": "stream",
     "text": [
      "Name Martha  Salary  200\n",
      "Name galo  Salary  10000\n",
      "Name julia  Salary  200\n",
      "Name sebas  Salary  10000\n",
      "Name Ricardo  Salary  200\n",
      "Name Sara  Salary  10000\n",
      "Total Employee 6\n",
      "Total Employee 6\n",
      "Employee.doc: Common base class for all employess\n",
      "Employee.name: Employee\n",
      "Employee.module: __main__\n",
      "Employee.bases: (<class 'object'>,)\n",
      "Employee.dict: {'__module__': '__main__', '__doc__': 'Common base class for all employess', 'empCount': 6, '__init__': <function Employee.__init__ at 0x00000294E26A34C8>, 'displayCount': <function Employee.displayCount at 0x00000294E26A3558>, 'displayEmployee': <function Employee.displayEmployee at 0x00000294E26A35E8>, '__dict__': <attribute '__dict__' of 'Employee' objects>, '__weakref__': <attribute '__weakref__' of 'Employee' objects>}\n"
     ]
    }
   ],
   "source": [
    "class Employee:\n",
    "    'Common base class for all employess'\n",
    "    empCount=0\n",
    "    def __init__(self, name, salary):\n",
    "        self.name=name\n",
    "        self.salary=salary\n",
    "        Employee.empCount+=1\n",
    "    def displayCount(self):\n",
    "        print(\"Total Employee %d\"% Employee.empCount)\n",
    "    def displayEmployee(self):\n",
    "        print(\"Name\",self.name,\" Salary \",self.salary)\n",
    "        \n",
    "emp1=Employee(\"Martha\",200)\n",
    "emp2=Employee(\"galo\",10000)\n",
    "emp3=Employee(\"julia\",200)\n",
    "emp4=Employee(\"sebas\",10000)\n",
    "emp5=Employee(\"Ricardo\",200)\n",
    "emp6=Employee(\"Sara\",10000)\n",
    "\n",
    "emp1.displayEmployee()\n",
    "emp2.displayEmployee()\n",
    "emp3.displayEmployee()\n",
    "emp4.displayEmployee()\n",
    "emp5.displayEmployee()\n",
    "emp6.displayEmployee()\n",
    "\n",
    "emp1.displayCount()\n",
    "print (\"Total Employee %d\" % Employee.empCount)\n",
    "\n",
    "\n",
    "print (\"Employee.doc:\", Employee.__doc__)\n",
    "print (\"Employee.name:\", Employee.__name__)\n",
    "print (\"Employee.module:\", Employee.__module__)\n",
    "print (\"Employee.bases:\", Employee.__bases__)\n",
    "print (\"Employee.dict:\", Employee.__dict__)\n"
   ]
  }
 ],
 "metadata": {
  "kernelspec": {
   "display_name": "Python 3",
   "language": "python",
   "name": "python3"
  },
  "language_info": {
   "codemirror_mode": {
    "name": "ipython",
    "version": 3
   },
   "file_extension": ".py",
   "mimetype": "text/x-python",
   "name": "python",
   "nbconvert_exporter": "python",
   "pygments_lexer": "ipython3",
   "version": "3.7.4"
  }
 },
 "nbformat": 4,
 "nbformat_minor": 2
}
